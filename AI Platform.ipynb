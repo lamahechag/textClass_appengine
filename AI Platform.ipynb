{
 "cells": [
  {
   "cell_type": "code",
   "execution_count": 1,
   "metadata": {},
   "outputs": [],
   "source": [
    "from googleapiclient import discovery"
   ]
  },
  {
   "cell_type": "code",
   "execution_count": 10,
   "metadata": {
    "scrolled": true
   },
   "outputs": [],
   "source": [
    "PROJECT_ID = \"nlsn-gcdml-glbcrm\"\n",
    "VERSION_NAME = \"offer_class2\"\n",
    "MODEL_NAME = \"ofert_class_1\"\n",
    "\n",
    "service = discovery.build('ml', 'v1')\n",
    "name = 'projects/{}/models/{}'.format(PROJECT_ID, MODEL_NAME)\n",
    "name += '/versions/{}'.format(VERSION_NAME)"
   ]
  },
  {
   "cell_type": "code",
   "execution_count": 11,
   "metadata": {},
   "outputs": [],
   "source": [
    "text = 'ADIDAS CLIMACOOL GEL DUCHA BOTELLA 250ML+FRAGANCIA] '\n",
    "text2 = 'ACID-MANTLE PROVITAMINA B5 PROTEGE CAJA 90GR(X3) PE] '\n",
    "responses = service.projects().predict(name=name, body={'instances': [text, text2]}).execute()"
   ]
  },
  {
   "cell_type": "code",
   "execution_count": 4,
   "metadata": {},
   "outputs": [
    {
     "data": {
      "text/plain": [
       "True"
      ]
     },
     "execution_count": 4,
     "metadata": {},
     "output_type": "execute_result"
    }
   ],
   "source": [
    "\"]\" in 'ADIDAS CLIMACOOL GEL DUCHA BOTELLA 250ML+FRAGANCIA] '[-2:]"
   ]
  },
  {
   "cell_type": "code",
   "execution_count": null,
   "metadata": {},
   "outputs": [],
   "source": [
    "{'instances': ['ADIDAS CLIMACOOL GEL DUCHA BOTELLA 250ML+FRAGANCIA] ', 'ACID-MANTLE PROVITAMINA B5 PROTEGE CAJA 90GR(X3) PE] ']}"
   ]
  }
 ],
 "metadata": {
  "kernelspec": {
   "display_name": "aiNielsenCol",
   "language": "python",
   "name": "ainielsencol"
  },
  "language_info": {
   "codemirror_mode": {
    "name": "ipython",
    "version": 3
   },
   "file_extension": ".py",
   "mimetype": "text/x-python",
   "name": "python",
   "nbconvert_exporter": "python",
   "pygments_lexer": "ipython3",
   "version": "3.6.6"
  }
 },
 "nbformat": 4,
 "nbformat_minor": 2
}
