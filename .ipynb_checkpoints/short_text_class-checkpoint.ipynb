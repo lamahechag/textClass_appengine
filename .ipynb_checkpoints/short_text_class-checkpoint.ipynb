{
 "cells": [
  {
   "cell_type": "markdown",
   "metadata": {},
   "source": [
    "## Description\n",
    "\n",
    "This a short text classifier of offers for products descriptions in a retail. Here we read, clean the data, train and test the model, and save to a `.joblib` file to be used later or deploy it to AI Platform in Google Cloud."
   ]
  },
  {
   "cell_type": "code",
   "execution_count": null,
   "metadata": {},
   "outputs": [],
   "source": [
    "import pandas as pd\n",
    "import numpy as np\n",
    "from sklearn.externals import joblib\n",
    "from sklearn.feature_extraction.text import CountVectorizer\n",
    "from sklearn.linear_model import LogisticRegression\n",
    "from sklearn.svm import SVC\n",
    "from sklearn.naive_bayes import MultinomialNB\n",
    "from sklearn.metrics import roc_auc_score, f1_score\n",
    "from sklearn.model_selection import train_test_split\n",
    "from sklearn.preprocessing import LabelEncoder"
   ]
  },
  {
   "cell_type": "markdown",
   "metadata": {},
   "source": [
    "__References and tutorials to improve the model__\n",
    "\n",
    "\n",
    "https://hackernoon.com/chars2vec-character-based-language-model-for-handling-real-world-texts-with-spelling-errors-and-a3e4053a147d\n",
    "\n",
    "https://towardsdatascience.com/introduction-to-word-embedding-and-word2vec-652d0c2060fa\n",
    "\n",
    "https://github.com/madelonhulsebos/sherlock"
   ]
  },
  {
   "cell_type": "markdown",
   "metadata": {},
   "source": [
    "Read data and clean the code bars id's"
   ]
  },
  {
   "cell_type": "code",
   "execution_count": null,
   "metadata": {},
   "outputs": [],
   "source": [
    "xl = pd.ExcelFile(\"Entrenamiento IA Ofertas.xlsx\")\n",
    "data = xl.parse(\"Sheet1\")\n",
    "copy = data.copy()\n",
    "data = data[data[\"TIPO OFERTA\"] != \"REGULAR\"]\n",
    "le = LabelEncoder()\n",
    "y = le.fit_transform(data[\"TIPO OFERTA\"])\n",
    "#remove bar codes\n",
    "data[\"ITEM\"] = data[\"ITEM\"].str.replace(r'\\d{6,}', '')"
   ]
  },
  {
   "cell_type": "code",
   "execution_count": null,
   "metadata": {
    "scrolled": true
   },
   "outputs": [],
   "source": [
    "data[\"TIPO OFERTA\"].value_counts(normalize=True)"
   ]
  },
  {
   "cell_type": "markdown",
   "metadata": {},
   "source": [
    "Split data into test and train"
   ]
  },
  {
   "cell_type": "code",
   "execution_count": null,
   "metadata": {},
   "outputs": [],
   "source": [
    "X_train, X_test, y_train, y_test = train_test_split(data['ITEM'], y,\n",
    "                                                    random_state=0, test_size=0.4)"
   ]
  },
  {
   "cell_type": "markdown",
   "metadata": {},
   "source": [
    "This a important stage, here because of short text description of products, we should n-grams of chars `char_wb`\n",
    "instead of words for long documents."
   ]
  },
  {
   "cell_type": "code",
   "execution_count": null,
   "metadata": {
    "scrolled": true
   },
   "outputs": [],
   "source": [
    "vect = CountVectorizer(ngram_range=(1,6), analyzer=\"char_wb\").fit(X_train)\n",
    "X_train_vectorized = vect.transform(X_train)\n",
    "len(vect.get_feature_names())"
   ]
  },
  {
   "cell_type": "markdown",
   "metadata": {},
   "source": [
    "This is a classification problem, so is likely that the dataset is imbalance. So, we should use micro and\n",
    "macro average score with `f1_score`."
   ]
  },
  {
   "cell_type": "code",
   "execution_count": null,
   "metadata": {},
   "outputs": [],
   "source": [
    "model = LogisticRegression(solver='liblinear', multi_class=\"auto\")\n",
    "model.fit(X_train_vectorized, y_train)\n",
    "predictions = model.predict(vect.transform(X_test))\n",
    "print('weighted: ', f1_score(y_test, predictions, average=\"weighted\"))\n",
    "print('micro: ', f1_score(y_test, predictions, average=\"micro\"))\n",
    "print('macro: ', f1_score(y_test, predictions, average=\"macro\"))"
   ]
  },
  {
   "cell_type": "code",
   "execution_count": null,
   "metadata": {
    "scrolled": true
   },
   "outputs": [],
   "source": [
    "model.score(vect.transform(X_test), y_test)"
   ]
  },
  {
   "cell_type": "code",
   "execution_count": null,
   "metadata": {
    "scrolled": true
   },
   "outputs": [],
   "source": [
    "for i, clas in enumerate(y_test):\n",
    "    if y_test[i] != predictions[i]:\n",
    "        print(\"ITEM --> \"+X_test.iloc[i])\n",
    "        print(\"TRUE--> \"+str(le.inverse_transform([y_test[i]])), \" MODEL--> \"+str(le.inverse_transform([predictions[i]])))\n",
    "        print(\"\")"
   ]
  },
  {
   "cell_type": "markdown",
   "metadata": {},
   "source": [
    "## Export model"
   ]
  },
  {
   "cell_type": "code",
   "execution_count": null,
   "metadata": {},
   "outputs": [],
   "source": [
    "joblib.dump(vect, \"vectorizer.joblid\")\n",
    "joblib.dump(le, \"encoder.joblib\")\n",
    "joblib.dump(offers, \"model.joblib\")"
   ]
  }
 ],
 "metadata": {
  "kernelspec": {
   "display_name": "aiNielsenCol",
   "language": "python",
   "name": "ainielsencol"
  },
  "language_info": {
   "codemirror_mode": {
    "name": "ipython",
    "version": 3
   },
   "file_extension": ".py",
   "mimetype": "text/x-python",
   "name": "python",
   "nbconvert_exporter": "python",
   "pygments_lexer": "ipython3",
   "version": "3.6.6"
  }
 },
 "nbformat": 4,
 "nbformat_minor": 2
}
